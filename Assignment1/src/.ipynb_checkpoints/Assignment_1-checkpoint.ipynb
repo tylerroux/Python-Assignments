{
 "cells": [
  {
   "cell_type": "markdown",
   "metadata": {},
   "source": [
    "#Assignment 1\n",
    "##This is generating lists of the teams."
   ]
  },
  {
   "cell_type": "markdown",
   "metadata": {},
   "source": [
    "The first two lines are importing libraries."
   ]
  },
  {
   "cell_type": "markdown",
   "metadata": {},
   "source": [
    "Next you want to open the file for the data and this is what this block of code below is doing. "
   ]
  },
  {
   "cell_type": "markdown",
   "metadata": {},
   "source": [
    "Initiation of variables is important and is whats being done next. \n",
    "We will use a counter to increase the number of teams and this also allows you to \n",
    "place the amount of members you want in a team instead of creating individual teams."
   ]
  },
  {
   "cell_type": "markdown",
   "metadata": {},
   "source": [
    "A for loop is used to loop an intializer for people in a team. to Increases the team amount, and has a range from 0 to the length of the list. "
   ]
  },
  {
   "cell_type": "markdown",
   "metadata": {},
   "source": [
    "This is a if statment that is used to equalize the lists and balance them."
   ]
  },
  {
   "cell_type": "markdown",
   "metadata": {},
   "source": [
    "This next part will use the random int from the imported random class to make a random \n",
    "int for each name and then prints the random name and removes the names already used. "
   ]
  },
  {
   "cell_type": "code",
   "execution_count": 2,
   "metadata": {},
   "outputs": [
    {
     "name": "stdout",
     "output_type": "stream",
     "text": [
      "['Malik', ' Kanav']\n",
      "['Leeming', ' Meghan']\n",
      "['Williamson', ' Preston']\n",
      "['Peterson', ' Michael']\n",
      "['Abrams', ' Ronald']\n",
      "['Martin', ' Marissa']\n",
      "\n",
      "['Hall', ' Lauren']\n",
      "['Puerto', ' Michael']\n",
      "['Abrams', ' Richard']\n",
      "['Parepalli', ' Shireeshma']\n",
      "['Ghotbi Taheri', ' Sogol']\n",
      "['Stadler', ' Josiah']\n",
      "\n",
      "['Traylor', ' Alana']\n",
      "['Chinta', ' Gowthami']\n",
      "['Brown', ' Chanel']\n",
      "['Burns', ' Bill']\n",
      "['Luo', ' Dan']\n",
      "['Lee', ' Kyung']\n",
      "\n",
      "['Calvo', ' Michael']\n",
      "['Chalise', ' Ashim']\n",
      "['Holmes', ' Willie']\n",
      "['Devkota', ' Pratik']\n",
      "['Bittle', ' Marc']\n",
      "['Wilhelmsen', ' Ian']\n",
      "\n",
      "['Sfar', ' Ilyass']\n",
      "['Sturdivant', ' Jazarai']\n",
      "['Obrien', ' Devin']\n",
      "['Hunter', ' Kahlie']\n",
      "['Aliyev', ' Etibar']\n",
      "['Mamo', ' Kidest']\n",
      "\n",
      "['Jayaram', ' Reshma']\n",
      "['Ashburn', ' Emily']\n",
      "['Pandeti', ' Siva Prasad']\n",
      "['Roux', ' Tyler']\n",
      "['Patil', ' Pradnya']\n",
      "['Sudderth', ' Erika']\n",
      "['Gomez', ' Stephanie']\n"
     ]
    }
   ],
   "source": [
    "#Importing libraries.\n",
    "import csv\n",
    "from random import randint\n",
    "\n",
    "#This opens the data file and reads the file and creates a list named classmates. \n",
    "with open('studentdata.csv') as file:\n",
    "    data = csv.reader(file)\n",
    "    classmates = list(data)\n",
    "    \n",
    "#This is intializing variables to given values.\n",
    "#Input for the members in each list except last list.\n",
    "class_number = len(classmates)\n",
    "generator = 1\n",
    "team_member_number = 6\n",
    "person_initializer = 1\n",
    "team_generator = 1\n",
    "\n",
    "#For loop from 0 to the end of the list.\n",
    "for x in range(0, class_number):\n",
    "    \n",
    "    #Intializing variables for inside for loop.\n",
    "    num = len(classmates)\n",
    "    n = (team_member_number - 1)\n",
    "      \n",
    "    #Generates list with initializer and generates new teams.\n",
    "    if person_initializer > team_member_number:\n",
    "        person_initializer = 1\n",
    "        team_generator += 1 \n",
    "        print()\n",
    "      \n",
    "    #If list is more or equal to input will increase last list by one to balance \n",
    "    #other lists.\n",
    "    if num >= n:\n",
    "        person_initializer += 1    \n",
    "        \n",
    "    #Makes random number to place with name and places name in list and prints list\n",
    "    #and removes duplicate values.\n",
    "    randomNumerator = randint(0,len(classmates)-1)\n",
    "    print(classmates[randomNumerator])\n",
    "    classmates.remove(classmates[randomNumerator])"
   ]
  },
  {
   "cell_type": "code",
   "execution_count": null,
   "metadata": {},
   "outputs": [],
   "source": []
  }
 ],
 "metadata": {
  "kernelspec": {
   "display_name": "Python 3",
   "language": "python",
   "name": "python3"
  },
  "language_info": {
   "codemirror_mode": {
    "name": "ipython",
    "version": 3
   },
   "file_extension": ".py",
   "mimetype": "text/x-python",
   "name": "python",
   "nbconvert_exporter": "python",
   "pygments_lexer": "ipython3",
   "version": "3.6.7"
  }
 },
 "nbformat": 4,
 "nbformat_minor": 2
}
