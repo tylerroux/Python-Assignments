{
 "cells": [
  {
   "cell_type": "markdown",
   "metadata": {},
   "source": []
  },
  {
   "cell_type": "code",
   "execution_count": 70,
   "metadata": {},
   "outputs": [
    {
     "name": "stdout",
     "output_type": "stream",
     "text": [
      "['Hall', ' Lauren']\n",
      "['Ghotbi Taheri', ' Sogol']\n",
      "['Luo', ' Dan']\n",
      "['Burns', ' Bill']\n",
      "\n",
      "['Obrien', ' Devin']\n",
      "['Traylor', ' Alana']\n",
      "['Sudderth', ' Erika']\n",
      "['Mamo', ' Kidest']\n",
      "\n",
      "['Wilhelmsen', ' Ian']\n",
      "['Calvo', ' Michael']\n",
      "['Abrams', ' Richard']\n",
      "['Aliyev', ' Etibar']\n",
      "\n",
      "['Malik', ' Kanav']\n",
      "['Martin', ' Marissa']\n",
      "['Abrams', ' Ronald']\n",
      "['Chinta', ' Gowthami']\n",
      "\n",
      "['Stadler', ' Josiah']\n",
      "['Brown', ' Chanel']\n",
      "['Gomez', ' Stephanie']\n",
      "['Peterson', ' Michael']\n",
      "\n",
      "['Jayaram', ' Reshma']\n",
      "['Lee', ' Kyung']\n",
      "['Devkota', ' Pratik']\n",
      "['Holmes', ' Willie']\n",
      "\n",
      "['Chalise', ' Ashim']\n",
      "['Puerto', ' Michael']\n",
      "['Pandeti', ' Siva Prasad']\n",
      "['Patil', ' Pradnya']\n",
      "\n",
      "['Parepalli', ' Shireeshma']\n",
      "['Roux', ' Tyler']\n",
      "['Sturdivant', ' Jazarai']\n",
      "['Ashburn', ' Emily']\n",
      "\n",
      "['Leeming', ' Meghan']\n",
      "['Sfar', ' Ilyass']\n",
      "['Bittle', ' Marc']\n",
      "['Williamson', ' Preston']\n",
      "['Hunter', ' Kahlie']\n"
     ]
    }
   ],
   "source": [
    "import csv\n",
    "import random\n",
    "\n",
    "with open('studentdata.csv') as file:\n",
    "    data = csv.reader(file)\n",
    "    classmates = list(data)\n",
    "\n",
    "num = len(classmates)\n",
    "n = (team_num - 1)\n",
    "counter = 1\n",
    "team_member_number = 4\n",
    "teamCounter = 1\n",
    "\n",
    "for x in range(0, num):\n",
    "    \n",
    "    num = len(classmates)\n",
    "    n = team_num - 1\n",
    "      \n",
    "    if counter > team_member_number:\n",
    "        counter = 1\n",
    "        teamCounter += 1 \n",
    "        print()\n",
    "        \n",
    "        \n",
    "    randomName = randint(0,len(classmates)-1)\n",
    "    print(classmates[randomName])\n",
    "    classmates.remove(classmates[randomName])\n",
    "        \n",
    "    if num >= n:\n",
    "        counter += 1\n",
    "        "
   ]
  },
  {
   "cell_type": "code",
   "execution_count": null,
   "metadata": {},
   "outputs": [],
   "source": []
  }
 ],
 "metadata": {
  "kernelspec": {
   "display_name": "Python 3",
   "language": "python",
   "name": "python3"
  },
  "language_info": {
   "codemirror_mode": {
    "name": "ipython",
    "version": 3
   },
   "file_extension": ".py",
   "mimetype": "text/x-python",
   "name": "python",
   "nbconvert_exporter": "python",
   "pygments_lexer": "ipython3",
   "version": "3.6.7"
  }
 },
 "nbformat": 4,
 "nbformat_minor": 2
}
